{
 "cells": [
  {
   "cell_type": "code",
   "execution_count": 1,
   "metadata": {
    "collapsed": false
   },
   "outputs": [
    {
     "name": "stdout",
     "output_type": "stream",
     "text": [
      "main\n",
      "Compartment reference not osmo-neutral\n",
      "Compartment dendrite left not osmo-neutral\n",
      "Compartment dendrite right 1 not osmo-neutral\n",
      "Compartment dendrite right 2 not osmo-neutral\n",
      "Compartment dendrite right 3 not osmo-neutral\n",
      "Compartment dendrite right 4 not osmo-neutral\n",
      "Compartment dendrite right 5 not osmo-neutral\n",
      "Compartment dendrite right 6 not osmo-neutral\n",
      "Compartment dendrite right 7 not osmo-neutral\n",
      "Compartment dendrite right 8 not osmo-neutral\n",
      "running from 0.000000 s until 100.000000 s with time step of 0.001 seconds \n"
     ]
    },
    {
     "name": "stderr",
     "output_type": "stream",
     "text": [
      "/home/kira/.local/lib/python3.5/site-packages/matplotlib/__init__.py:1405: UserWarning: \n",
      "This call to matplotlib.use() has no effect because the backend has already\n",
      "been chosen; matplotlib.use() must be called *before* pylab, matplotlib.pyplot,\n",
      "or matplotlib.backends is imported for the first time.\n",
      "\n",
      "  warnings.warn(_use_error_msg)\n"
     ]
    },
    {
     "name": "stdout",
     "output_type": "stream",
     "text": [
      "time taken: 53.92788\n",
      "dendrite left<-reference\n",
      "reference<-dendrite right 1\n",
      "dendrite right 1<-dendrite right 2\n",
      "dendrite right 2<-dendrite right 3\n",
      "dendrite right 3<-dendrite right 4\n",
      "dendrite right 4<-dendrite right 5\n",
      "dendrite right 5<-dendrite right 6\n",
      "dendrite right 6<-dendrite right 7\n",
      "dendrite right 7<-dendrite right 8\n",
      "running from 100.000000 s until 200.000000 s with time step of 0.001 seconds \n",
      "time taken: 154.555985\n",
      "2017-07-16 15:10:05.563219\n",
      "Ion concentrations given diffusion between compartments\n",
      "          \t     reference      \t   dendrite left    \t  dendrite right 8  \t\n",
      "cli       0.005203094275544800\t0.005203094275544800\t0.005203094275544800\t\n",
      "ki        0.103861711524298642\t0.103861711524298642\t0.103861711524298642\t\n",
      "nai       0.033019620272441069\t0.033019620272441069\t0.033019620272441069\t\n",
      "xi        0.154915573927718375\t0.154915573927718375\t0.154915573927718375\t\n",
      "pkcc2     0.000000010000000000\t0.000000010000000000\t0.000000010000000000\t\n",
      "gx        0.000000000000000000\t0.000000000000000000\t0.000000000000000000\t\n",
      "w         0.000000000000007849\t0.000000000000007849\t0.000000000000007849\t\n",
      "running from 200.000000 s until 205.000000 s with time step of 1e-06 seconds \n"
     ]
    },
    {
     "name": "stderr",
     "output_type": "stream",
     "text": [
      "/home/kira/Documents/multi-compartment_multi-anion/compartment.py:142: RuntimeWarning: invalid value encountered in log\n",
      "  dcli = _time.dt * self.Ar * (gcl * (self.V + RTF * np.log(self.clo / self.cli)) + self.jkcc2)\n",
      "/home/kira/Documents/multi-compartment_multi-anion/compartment.py:154: RuntimeWarning: invalid value encountered in log\n",
      "  self.ecl = RTF * np.log(self.cli / self.clo)\n",
      "/home/kira/Documents/multi-compartment_multi-anion/compartment.py:140: RuntimeWarning: invalid value encountered in log\n",
      "  dnai = -_time.dt * self.Ar * (gna * (self.V - RTF * np.log(self.nao / self.nai)) + cna * self.jp)\n",
      "/home/kira/Documents/multi-compartment_multi-anion/compartment.py:141: RuntimeWarning: invalid value encountered in log\n",
      "  dki = -_time.dt * self.Ar * (gk * (self.V - RTF * np.log(self.ko / self.ki)) - ck * self.jp - self.jkcc2)\n",
      "/home/kira/Documents/multi-compartment_multi-anion/compartment.py:153: RuntimeWarning: invalid value encountered in log\n",
      "  self.ek = RTF * np.log(self.ko / self.ki)\n",
      "/home/kira/Documents/multi-compartment_multi-anion/compartment.py:186: RuntimeWarning: overflow encountered in double_scalars\n",
      "  self.nai = (self.nai * self.w) / w2\n",
      "/home/kira/Documents/multi-compartment_multi-anion/compartment.py:187: RuntimeWarning: overflow encountered in double_scalars\n",
      "  self.ki = (self.ki * self.w) / w2\n"
     ]
    },
    {
     "ename": "KeyboardInterrupt",
     "evalue": "",
     "output_type": "error",
     "traceback": [
      "\u001b[0;31m---------------------------------------------------------------------------\u001b[0m",
      "\u001b[0;31mKeyboardInterrupt\u001b[0m                         Traceback (most recent call last)",
      "\u001b[0;32m<ipython-input-1-f418b9f56093>\u001b[0m in \u001b[0;36m<module>\u001b[0;34m()\u001b[0m\n\u001b[1;32m      1\u001b[0m \u001b[0;32mimport\u001b[0m \u001b[0mmain\u001b[0m\u001b[0;34m\u001b[0m\u001b[0m\n\u001b[0;32m----> 2\u001b[0;31m \u001b[0;34m[\u001b[0m\u001b[0msim\u001b[0m\u001b[0;34m,\u001b[0m \u001b[0mgui\u001b[0m\u001b[0;34m]\u001b[0m \u001b[0;34m=\u001b[0m \u001b[0mmain\u001b[0m\u001b[0;34m.\u001b[0m\u001b[0mmain\u001b[0m\u001b[0;34m(\u001b[0m\u001b[0mnew_gx\u001b[0m\u001b[0;34m=\u001b[0m\u001b[0;36m0\u001b[0m\u001b[0;34m,\u001b[0m \u001b[0mjkccup\u001b[0m\u001b[0;34m=\u001b[0m\u001b[0;36m1e-13\u001b[0m\u001b[0;34m,\u001b[0m \u001b[0manion_flux\u001b[0m\u001b[0;34m=\u001b[0m\u001b[0;32mFalse\u001b[0m\u001b[0;34m,\u001b[0m \u001b[0mdefault_xz\u001b[0m\u001b[0;34m=\u001b[0m\u001b[0;34m-\u001b[0m\u001b[0;36m1\u001b[0m\u001b[0;34m,\u001b[0m \u001b[0mnrcomps\u001b[0m\u001b[0;34m=\u001b[0m\u001b[0;36m7\u001b[0m\u001b[0;34m,\u001b[0m \u001b[0mdz\u001b[0m\u001b[0;34m=\u001b[0m\u001b[0;36m0\u001b[0m\u001b[0;34m,\u001b[0m \u001b[0mtextra\u001b[0m\u001b[0;34m=\u001b[0m\u001b[0;36m5\u001b[0m\u001b[0;34m)\u001b[0m\u001b[0;34m\u001b[0m\u001b[0m\n\u001b[0m",
      "\u001b[0;32m~/Documents/multi-compartment_multi-anion/main.py\u001b[0m in \u001b[0;36mmain\u001b[0;34m(cli_D, new_gx, anion_flux, default_xz, jkccup, nrcomps, dz, textra)\u001b[0m\n\u001b[1;32m    243\u001b[0m     \"\"\"\n\u001b[1;32m    244\u001b[0m \u001b[0;34m\u001b[0m\u001b[0m\n\u001b[0;32m--> 245\u001b[0;31m     \u001b[0msim\u001b[0m\u001b[0;34m.\u001b[0m\u001b[0mrun\u001b[0m\u001b[0;34m(\u001b[0m\u001b[0mcontinuefor\u001b[0m\u001b[0;34m=\u001b[0m\u001b[0mtextra\u001b[0m\u001b[0;34m,\u001b[0m \u001b[0mdt\u001b[0m\u001b[0;34m=\u001b[0m\u001b[0mdt\u001b[0m\u001b[0;34m*\u001b[0m\u001b[0;36m0.001\u001b[0m\u001b[0;34m,\u001b[0m \u001b[0mplot_update_interval\u001b[0m\u001b[0;34m=\u001b[0m\u001b[0mtextra\u001b[0m\u001b[0;34m/\u001b[0m\u001b[0;36m32\u001b[0m\u001b[0;34m,\u001b[0m \u001b[0mdata_collect_interval\u001b[0m\u001b[0;34m=\u001b[0m\u001b[0mtextra\u001b[0m\u001b[0;34m/\u001b[0m\u001b[0;36m32\u001b[0m\u001b[0;34m)\u001b[0m\u001b[0;34m\u001b[0m\u001b[0m\n\u001b[0m\u001b[1;32m    246\u001b[0m     \u001b[0mprint\u001b[0m\u001b[0;34m(\u001b[0m\u001b[0mdatetime\u001b[0m\u001b[0;34m.\u001b[0m\u001b[0mdatetime\u001b[0m\u001b[0;34m.\u001b[0m\u001b[0mnow\u001b[0m\u001b[0;34m(\u001b[0m\u001b[0;34m)\u001b[0m\u001b[0;34m)\u001b[0m\u001b[0;34m\u001b[0m\u001b[0m\n\u001b[1;32m    247\u001b[0m     print_concentrations([comp, compl, compr[-1]],\n",
      "\u001b[0;32m~/Documents/multi-compartment_multi-anion/simulator.py\u001b[0m in \u001b[0;36mrun\u001b[0;34m(cls, continuefor, stop, dt, plot_update_interval, data_collect_interval, block_after, print_time)\u001b[0m\n\u001b[1;32m    118\u001b[0m             \u001b[0mcls\u001b[0m\u001b[0;34m.\u001b[0m\u001b[0m__time\u001b[0m\u001b[0;34m.\u001b[0m\u001b[0mstep\u001b[0m\u001b[0;34m(\u001b[0m\u001b[0;34m)\u001b[0m\u001b[0;34m\u001b[0m\u001b[0m\n\u001b[1;32m    119\u001b[0m             \u001b[0;31m# apply updates to objects that required deferred updating of their variables\u001b[0m\u001b[0;34m\u001b[0m\u001b[0;34m\u001b[0m\u001b[0m\n\u001b[0;32m--> 120\u001b[0;31m             \u001b[0mcls\u001b[0m\u001b[0;34m.\u001b[0m\u001b[0m__apply_updates\u001b[0m\u001b[0;34m(\u001b[0m\u001b[0;34m)\u001b[0m\u001b[0;34m\u001b[0m\u001b[0m\n\u001b[0m\u001b[1;32m    121\u001b[0m         \u001b[0mcls\u001b[0m\u001b[0;34m.\u001b[0m\u001b[0mrun_done\u001b[0m \u001b[0;34m=\u001b[0m \u001b[0;32mTrue\u001b[0m\u001b[0;34m\u001b[0m\u001b[0m\n\u001b[1;32m    122\u001b[0m         \u001b[0mcls\u001b[0m\u001b[0;34m.\u001b[0m\u001b[0mplot_graphs\u001b[0m\u001b[0;34m(\u001b[0m\u001b[0;34m)\u001b[0m\u001b[0;34m\u001b[0m\u001b[0m\n",
      "\u001b[0;32m~/Documents/multi-compartment_multi-anion/simulator.py\u001b[0m in \u001b[0;36m__apply_updates\u001b[0;34m(cls)\u001b[0m\n\u001b[1;32m    240\u001b[0m         \"\"\"\n\u001b[1;32m    241\u001b[0m         \u001b[0;32mfor\u001b[0m \u001b[0mdeferred_update\u001b[0m \u001b[0;32min\u001b[0m \u001b[0mcls\u001b[0m\u001b[0;34m.\u001b[0m\u001b[0m__update_list\u001b[0m\u001b[0;34m:\u001b[0m\u001b[0;34m\u001b[0m\u001b[0m\n\u001b[0;32m--> 242\u001b[0;31m             \u001b[0mdeferred_update\u001b[0m\u001b[0;34m.\u001b[0m\u001b[0mapply_update\u001b[0m\u001b[0;34m(\u001b[0m\u001b[0;34m)\u001b[0m\u001b[0;34m\u001b[0m\u001b[0m\n\u001b[0m\u001b[1;32m    243\u001b[0m         \u001b[0mcls\u001b[0m\u001b[0;34m.\u001b[0m\u001b[0m__clear_updates\u001b[0m\u001b[0;34m(\u001b[0m\u001b[0;34m)\u001b[0m\u001b[0;34m\u001b[0m\u001b[0m\n\u001b[1;32m    244\u001b[0m \u001b[0;34m\u001b[0m\u001b[0m\n",
      "\u001b[0;32m~/Documents/multi-compartment_multi-anion/deferred_update.py\u001b[0m in \u001b[0;36mapply_update\u001b[0;34m(self)\u001b[0m\n\u001b[1;32m     30\u001b[0m         \u001b[0;32mif\u001b[0m \u001b[0mself\u001b[0m\u001b[0;34m.\u001b[0m\u001b[0mupdate_type\u001b[0m \u001b[0;34m==\u001b[0m \u001b[0mUpdateType\u001b[0m\u001b[0;34m.\u001b[0m\u001b[0mCHANGE\u001b[0m\u001b[0;34m:\u001b[0m\u001b[0;34m\u001b[0m\u001b[0m\n\u001b[1;32m     31\u001b[0m             \u001b[0;31m# value is added\u001b[0m\u001b[0;34m\u001b[0m\u001b[0;34m\u001b[0m\u001b[0m\n\u001b[0;32m---> 32\u001b[0;31m             \u001b[0mself\u001b[0m\u001b[0;34m.\u001b[0m\u001b[0mobj\u001b[0m\u001b[0;34m[\u001b[0m\u001b[0mself\u001b[0m\u001b[0;34m.\u001b[0m\u001b[0mvar\u001b[0m\u001b[0;34m]\u001b[0m \u001b[0;34m+=\u001b[0m \u001b[0mself\u001b[0m\u001b[0;34m.\u001b[0m\u001b[0mvalue\u001b[0m\u001b[0;34m\u001b[0m\u001b[0m\n\u001b[0m\u001b[1;32m     33\u001b[0m         \u001b[0;32melif\u001b[0m \u001b[0mself\u001b[0m\u001b[0;34m.\u001b[0m\u001b[0mupdate_type\u001b[0m \u001b[0;34m==\u001b[0m \u001b[0mUpdateType\u001b[0m\u001b[0;34m.\u001b[0m\u001b[0mSET\u001b[0m\u001b[0;34m:\u001b[0m\u001b[0;34m\u001b[0m\u001b[0m\n\u001b[1;32m     34\u001b[0m             \u001b[0;31m# value replaces variable's value\u001b[0m\u001b[0;34m\u001b[0m\u001b[0;34m\u001b[0m\u001b[0m\n",
      "\u001b[0;31mKeyboardInterrupt\u001b[0m: "
     ]
    }
   ],
   "source": [
    "import main\n",
    "[sim, gui] = main.main(new_gx=0, jkccup=1e-13, anion_flux=False, default_xz=-1, nrcomps=7, dz=0, textra=5)"
   ]
  },
  {
   "cell_type": "code",
   "execution_count": null,
   "metadata": {
    "collapsed": true
   },
   "outputs": [],
   "source": []
  }
 ],
 "metadata": {
  "celltoolbar": "Edit Metadata",
  "kernelspec": {
   "display_name": "Python 3",
   "language": "python",
   "name": "python3"
  },
  "language_info": {
   "codemirror_mode": {
    "name": "ipython",
    "version": 3
   },
   "file_extension": ".py",
   "mimetype": "text/x-python",
   "name": "python",
   "nbconvert_exporter": "python",
   "pygments_lexer": "ipython3",
   "version": "3.5.2"
  }
 },
 "nbformat": 4,
 "nbformat_minor": 2
}
