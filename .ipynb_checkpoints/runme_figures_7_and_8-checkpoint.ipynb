{
 "cells": [
  {
   "cell_type": "markdown",
   "metadata": {
    "collapsed": false
   },
   "source": [
    "# Figures 7-8\n",
    "\n",
    "Welcome to the jupyter notebook for the GitHub repository of the paper \"Biophysical models reveal the relative importance of transporter proteins and impermeant anions in chloride homeostasis\" (currently in review, view at https://www.biorxiv.org/content/early/2017/11/08/216150). This notebook is designed to allow you to run and tweak the code and see the associated Figures 7-8 in the paper (i.e. the figures generated using a multi-compartment model of chloride homeostasis).\n",
    "\n",
    "You may also wish to explore the code in your favourite python3 environment, as the figures generated in this notebook are static and one can generate figures that update while a simulation runs to explore other parameters and compartment set-ups. However, the simulations are slow and you can expect a decent-length simulation to take several hours to run."
   ]
  },
  {
   "cell_type": "code",
   "execution_count": 1,
   "metadata": {
    "collapsed": true
   },
   "outputs": [],
   "source": [
    "import sys, getopt\n",
    "from simulator import Simulator\n",
    "from compartment import Compartment\n",
    "from diffusion import Diffusion\n",
    "from common import default_radius_short\n",
    "from colormap import Colormap\n",
    "from main import print_concentrations\n",
    "\n",
    "time_per_sim = 15 # time_per_sim is the time for which each 'step' of the simulation runs\n",
    "\n",
    "def baserun(cli_D=2.03, new_gx=0e-8, anion_flux=False, default_xz=-0.85, jkccup=1e-12, nrcomps=2, dz=1e-7, textra=10):\n",
    "    \n",
    "    sim = Simulator().get_instance()\n",
    "    \n",
    "    dt = 0.001  # s\n",
    "\n",
    "    length = 10e-5\n",
    "    \n",
    "    pui = 500\n",
    "\n",
    "    comp = Compartment(\"reference\", z=-0.85\n",
    "                       , cli=0.0052,\n",
    "                       ki=0.0123,\n",
    "                       nai=0.014,\n",
    "                       length=length,\n",
    "                       radius=default_radius_short)\n",
    "\n",
    "    # copies left\n",
    "    compl = comp.copy(\"dendrite left\")\n",
    "\n",
    "    # copies right\n",
    "    compr = []\n",
    "    compr.append(comp.copy(\"dendrite right \" + str(1)))\n",
    "    for i in range(nrcomps):\n",
    "        compr.append(comp.copy(\"dendrite right \" + str(i + 2)))\n",
    "\n",
    "    # find steady-state values of ions\n",
    "    sim.run(stop=100, dt=0.001, plot_update_interval=pui, data_collect_interval=5, block_after=False)\n",
    "    \n",
    "    # instantiate gui\n",
    "    gui = sim.gui()\n",
    "        \n",
    "    # set diffusion value\n",
    "    cli_D *= 1e-7  # cm2 to dm2 (D in dm2/s)\n",
    "    ki_D = 1.96\n",
    "    ki_D *= 1e-7  # cm2 to dm2 (D in dm2/s)\n",
    "    nai_D = 1.33\n",
    "    nai_D *= 1e-7\n",
    "    diffusion_object = []\n",
    "\n",
    "    # connect with Diffusion\n",
    "    diffusion_object.append(Diffusion(compl, comp, ions={'cli': cli_D, 'ki': ki_D, 'nai': nai_D}))\n",
    "    diffusion_object.append(Diffusion(comp, compr[0], ions={'cli': cli_D, 'ki': ki_D, 'nai': nai_D}))\n",
    "    for i in range(nrcomps):\n",
    "        diffusion_object.append(Diffusion(compr[i], compr[i+1], ions={'cli': cli_D, 'ki': ki_D, 'nai': nai_D}))\n",
    "\n",
    "    # heatmap incorporating compartment dimensions (not to scale, but relative differences over time are preserved)\n",
    "    sc = 1e7\n",
    "    htplot = Colormap(\"cmap\",0,compr)\n",
    "    totalht, initvals = htplot.heatmap(compl, comp, compr, sc, 0, all=1, init_vals=None)\n",
    "\n",
    "    # plot of compartment in which change is happening for the time period of the next sim.run\n",
    "    voltage_reversal_graph_comp = gui.add_graph() \\\n",
    "        .add_ion_conc(comp, \"ecl\", line_style='g', y_units_scale=1000, y_plot_units='mV') \\\n",
    "        .add_ion_conc(comp, \"ek\", line_style='b', y_units_scale=1000, y_plot_units='mV') \\\n",
    "        .add_voltage(comp, line_style='k', y_units_scale=1000, y_plot_units='mV')\n",
    "    \n",
    "    # plot of furthest compartment from the compartment in which change is happening for the time period of the next sim.run\n",
    "    voltage_reversal_graph_comp_end = gui.add_graph() \\\n",
    "        .add_ion_conc(compr[-1], \"ecl\", line_style='g', y_units_scale=1000, y_plot_units='mV') \\\n",
    "        .add_ion_conc(compr[-1], \"ek\", line_style='b', y_units_scale=1000, y_plot_units='mV') \\\n",
    "        .add_voltage(compr[-1], line_style='k', y_units_scale=1000, y_plot_units='mV')\n",
    "    \n",
    "    # run simulation with diffusion\n",
    "    sim.run(continuefor=10, dt=dt, plot_update_interval=10, data_collect_interval=2)\n",
    "    print_concentrations([comp, compl, compr[-1]],\n",
    "                         title=\"Ion concentrations given diffusion between compartments\")\n",
    "    \n",
    "    # heatmap incorporating compartment dimensions (not to scale, but relative differences over time are preserved)\n",
    "    htplot.heatmap(compl, comp, compr, sc, totalht, all=1, init_vals=initvals,title=['Initial Driving Force Difference','Initial ECl Difference','Initial Vm difference'])\n",
    "    \n",
    "    # (optionally) change anion conductance\n",
    "    prev_comp_gx = comp.gx\n",
    "    comp.gx = new_gx\n",
    "    comp.dz = dz\n",
    "    \n",
    "    # (optionally) change anion flux\n",
    "    if anion_flux:\n",
    "        comp.xz = default_xz\n",
    "        comp.xmz = (comp.z * comp.xi - comp.xz * comp.xi_temp) / comp.xm\n",
    "        print('Anion flux with fixed anions having net charge', comp.xmz, 'while a proportion of', (1 - comp.ratio),\n",
    "              'of all impermeants are temporarily mobile anions of charge', comp.xz)\n",
    "    \n",
    "    # (optionally) change kcc2\n",
    "    prev_comp_pkcc2 = comp.pkcc2\n",
    "    if jkccup is not None:\n",
    "        comp.jkccup = jkccup\n",
    "    \n",
    "    # plot of compartment in which change is happening for the time period of the next sim.run\n",
    "    voltage_reversal_graph_comp = gui.add_graph() \\\n",
    "        .add_ion_conc(comp, \"ecl\", line_style='g', y_units_scale=1000, y_plot_units='mV') \\\n",
    "        .add_ion_conc(comp, \"ek\", line_style='b', y_units_scale=1000, y_plot_units='mV') \\\n",
    "        .add_voltage(comp, line_style='k', y_units_scale=1000, y_plot_units='mV')\n",
    "    \n",
    "    # plot of furthest compartment from the compartment in which change is happening for the time period of the next sim.run\n",
    "    voltage_reversal_graph_comp_end = gui.add_graph() \\\n",
    "        .add_ion_conc(compr[-1], \"ecl\", line_style='g', y_units_scale=1000, y_plot_units='mV') \\\n",
    "        .add_ion_conc(compr[-1], \"ek\", line_style='b', y_units_scale=1000, y_plot_units='mV') \\\n",
    "        .add_voltage(compr[-1], line_style='k', y_units_scale=1000, y_plot_units='mV')\n",
    "\n",
    "    sim.run(continuefor=textra, dt=dt*0.001, plot_update_interval=textra, data_collect_interval=textra/10.0)\n",
    "\n",
    "    print_concentrations([comp, compl, compr[-1]],\n",
    "                         title=\"Ion concentrations during event from the dendritic compartment\")\n",
    "    \n",
    "    # heatmap incorporating compartment dimensions (not to scale, but relative differences over time are preserved)\n",
    "    htplot.heatmap(compl, comp, compr, sc, totalht, all=1, init_vals=initvals, title=['Intermediate Driving Force Difference','Intermediate ECl Difference','Intermediate Vm difference'])\n",
    "    \n",
    "    # plot of compartment in which change is happening for the time period of the next sim.run\n",
    "    voltage_reversal_graph_comp = gui.add_graph() \\\n",
    "        .add_ion_conc(comp, \"ecl\", line_style='g', y_units_scale=1000, y_plot_units='mV') \\\n",
    "        .add_ion_conc(comp, \"ek\", line_style='b', y_units_scale=1000, y_plot_units='mV') \\\n",
    "        .add_voltage(comp, line_style='k', y_units_scale=1000, y_plot_units='mV')\n",
    "    \n",
    "    # plot of furthest compartment from the compartment in which change is happening for the time period of the next sim.run\n",
    "    voltage_reversal_graph_comp_end = gui.add_graph() \\\n",
    "        .add_ion_conc(compr[-1], \"ecl\", line_style='g', y_units_scale=1000, y_plot_units='mV') \\\n",
    "        .add_ion_conc(compr[-1], \"ek\", line_style='b', y_units_scale=1000, y_plot_units='mV') \\\n",
    "        .add_voltage(compr[-1], line_style='k', y_units_scale=1000, y_plot_units='mV')\n",
    "\n",
    "    sim.run(continuefor=textra, dt=dt*0.001, plot_update_interval=textra, data_collect_interval=textra/10.0)\n",
    "    \n",
    "    voltage_reversal_graph_comp_end.show()\n",
    "    \n",
    "    print_concentrations([comp, compl, compr[-1]],\n",
    "                         title=\"Ion concentrations immediately after event from the dendritic compartment\")\n",
    "    \n",
    "    # reset anion flux, kcc2 strength change parameters\n",
    "    comp.gx = prev_comp_gx\n",
    "    comp.jkccup = 0\n",
    "    comp.dz = 0\n",
    "\n",
    "    #htplot.heatmap(compl, comp, compr, sc, totalht, all=1, init_vals=initvals, title=['Immediate Driving Force Difference','Immediate ECl Difference','Immediate Vm difference'])\n",
    "    \n",
    "    if jkccup != 0: # KCC2 methods stabilise quicker than anion flux methods\n",
    "            \n",
    "        # plot of compartment in which change is happening for the time period of the next sim.run\n",
    "        voltage_reversal_graph_comp = gui.add_graph() \\\n",
    "            .add_ion_conc(comp, \"ecl\", line_style='g', y_units_scale=1000, y_plot_units='mV') \\\n",
    "            .add_ion_conc(comp, \"ek\", line_style='b', y_units_scale=1000, y_plot_units='mV') \\\n",
    "            .add_voltage(comp, line_style='k', y_units_scale=1000, y_plot_units='mV')\n",
    "\n",
    "        # plot of furthest compartment from the compartment in which change is happening for the time period of the next sim.run\n",
    "        voltage_reversal_graph_comp_end = gui.add_graph() \\\n",
    "            .add_ion_conc(compr[-1], \"ecl\", line_style='g', y_units_scale=1000, y_plot_units='mV') \\\n",
    "            .add_ion_conc(compr[-1], \"ek\", line_style='b', y_units_scale=1000, y_plot_units='mV') \\\n",
    "            .add_voltage(compr[-1], line_style='k', y_units_scale=1000, y_plot_units='mV')\n",
    "\n",
    "        sim.run(continuefor=textra*2, dt=dt*0.001, plot_update_interval=textra*2, data_collect_interval=textra/10.0)\n",
    "        \n",
    "        print_concentrations([comp, compl, compr[-1]],\n",
    "                         title=\"Ion concentrations at steady state\")\n",
    "        \n",
    "        # heatmap incorporating compartment dimensions (not to scale, but relative differences over time are preserved)\n",
    "        htplot.heatmap(compl, comp, compr, sc, totalht, all=1, init_vals=initvals, title=['Final Driving Force Difference','Final ECl Difference','Final Vm difference'])\n",
    "    \n",
    "    else:\n",
    "        \n",
    "        # plot of compartment in which change is happening for the time period of the next sim.run\n",
    "        voltage_reversal_graph_comp = gui.add_graph() \\\n",
    "            .add_ion_conc(comp, \"ecl\", line_style='g', y_units_scale=1000, y_plot_units='mV') \\\n",
    "            .add_ion_conc(comp, \"ek\", line_style='b', y_units_scale=1000, y_plot_units='mV') \\\n",
    "            .add_voltage(comp, line_style='k', y_units_scale=1000, y_plot_units='mV')\n",
    "\n",
    "        # plot of furthest compartment from the compartment in which change is happening for the time period of the next sim.run\n",
    "        voltage_reversal_graph_comp_end = gui.add_graph() \\\n",
    "            .add_ion_conc(compr[-1], \"ecl\", line_style='g', y_units_scale=1000, y_plot_units='mV') \\\n",
    "            .add_ion_conc(compr[-1], \"ek\", line_style='b', y_units_scale=1000, y_plot_units='mV') \\\n",
    "            .add_voltage(compr[-1], line_style='k', y_units_scale=1000, y_plot_units='mV')\n",
    "        \n",
    "        sim.run(continuefor=textra*4, dt=dt*0.001, plot_update_interval=textra*4, data_collect_interval=textra/10.0)\n",
    "        \n",
    "        print_concentrations([comp, compl, compr[-1]],\n",
    "                             title=\"Ion concentrations at steady state\")\n",
    "\n",
    "        # heatmap incorporating compartment dimensions (not to scale, but relative differences over time are preserved)\n",
    "        htplot.heatmap(compl, comp, compr, sc, totalht, all=1, init_vals=initvals, title=['Final Driving Force Difference','Final ECl Difference','Final Vm difference'])\n",
    "        \n",
    "    sim.dispose()\n",
    "\n",
    "    return sim, gui"
   ]
  },
  {
   "cell_type": "markdown",
   "metadata": {},
   "source": [
    "## Figure 7a,b"
   ]
  },
  {
   "cell_type": "code",
   "execution_count": null,
   "metadata": {
    "collapsed": false
   },
   "outputs": [
    {
     "name": "stdout",
     "output_type": "stream",
     "text": [
      "Figure 7A\n",
      "Compartment reference not osmo-neutral\n",
      "Compartment dendrite left not osmo-neutral\n",
      "Compartment dendrite right 1 not osmo-neutral\n",
      "Compartment dendrite right 2 not osmo-neutral\n",
      "Compartment dendrite right 3 not osmo-neutral\n",
      "Compartment dendrite right 4 not osmo-neutral\n",
      "Compartment dendrite right 5 not osmo-neutral\n",
      "Compartment dendrite right 6 not osmo-neutral\n",
      "Compartment dendrite right 7 not osmo-neutral\n",
      "Compartment dendrite right 8 not osmo-neutral\n",
      "running from 0.000000 s until 100.000000 s with time step of 0.001 seconds \n"
     ]
    },
    {
     "name": "stderr",
     "output_type": "stream",
     "text": [
      "/home/kira/.local/lib/python3.5/site-packages/matplotlib/__init__.py:1405: UserWarning: \n",
      "This call to matplotlib.use() has no effect because the backend has already\n",
      "been chosen; matplotlib.use() must be called *before* pylab, matplotlib.pyplot,\n",
      "or matplotlib.backends is imported for the first time.\n",
      "\n",
      "  warnings.warn(_use_error_msg)\n"
     ]
    },
    {
     "name": "stdout",
     "output_type": "stream",
     "text": [
      "time taken: 65.922939\n",
      "dendrite left<-reference\n",
      "reference<-dendrite right 1\n",
      "dendrite right 1<-dendrite right 2\n",
      "dendrite right 2<-dendrite right 3\n",
      "dendrite right 3<-dendrite right 4\n",
      "dendrite right 4<-dendrite right 5\n",
      "dendrite right 5<-dendrite right 6\n",
      "dendrite right 6<-dendrite right 7\n",
      "dendrite right 7<-dendrite right 8\n",
      "running from 100.000000 s until 110.000000 s with time step of 0.001 seconds \n",
      "time taken: 77.816727\n",
      "Ion concentrations given diffusion between compartments\n",
      "          \t     reference      \t   dendrite left    \t  dendrite right 8  \t\n",
      "cli       0.005167863400916091\t0.005167863400916091\t0.005167863400916091\t\n",
      "ki        0.122795736461747948\t0.122795736461747948\t0.122795736461747948\t\n",
      "nai       0.014001447398877617\t0.014001447398877617\t0.014001447398877617\t\n",
      "xi        0.155034952738455439\t0.155034952738455439\t0.155034952738455439\t\n",
      "pkcc2     0.000000020728539769\t0.000000020728539769\t0.000000020728539769\t\n",
      "gx        0.000000000000000000\t0.000000000000000000\t0.000000000000000000\t\n",
      "w         0.000000000000001258\t0.000000000000001258\t0.000000000000001258\t\n",
      "ecl       -0.083832529166599473\t-0.083832529166599473\t-0.083832529166599473\t\n",
      "V         -0.072578065438942477\t-0.072578065438942477\t-0.072578065438942477\t\n",
      "z         -0.850000000000000089\t-0.850000000000000089\t-0.850000000000000089\t\n",
      "Radii: [20, 20, 20, 20, 20, 20, 20, 20, 20, 20]\n"
     ]
    },
    {
     "data": {
      "image/png": "[encoded data removed]",
      "text/plain": [
       "<matplotlib.figure.Figure at 0x7fbcdcf43fd0>"
      ]
     },
     "metadata": {},
     "output_type": "display_data"
    },
    {
     "data": {
      "image/png": "[encoded data removed]",
      "text/plain": [
       "<matplotlib.figure.Figure at 0x7fbcb444b8d0>"
      ]
     },
     "metadata": {},
     "output_type": "display_data"
    },
    {
     "data": {
      "image/png": "[encoded data removed]",
      "text/plain": [
       "<matplotlib.figure.Figure at 0x7fbcb443f390>"
      ]
     },
     "metadata": {},
     "output_type": "display_data"
    },
    {
     "name": "stdout",
     "output_type": "stream",
     "text": [
      "Radii: [20, 20, 20, 20, 20, 20, 20, 20, 20, 20]\n"
     ]
    },
    {
     "data": {
      "image/png": "[encoded data removed]",
      "text/plain": [
       "<matplotlib.figure.Figure at 0x7fbcb653dbe0>"
      ]
     },
     "metadata": {},
     "output_type": "display_data"
    },
    {
     "name": "stdout",
     "output_type": "stream",
     "text": [
      "Radii: [20, 20, 20, 20, 20, 20, 20, 20, 20, 20]\n"
     ]
    },
    {
     "data": {
      "image/png": "[encoded data removed]",
      "text/plain": [
       "<matplotlib.figure.Figure at 0x7fbcb4276048>"
      ]
     },
     "metadata": {},
     "output_type": "display_data"
    },
    {
     "name": "stdout",
     "output_type": "stream",
     "text": [
      "running from 110.000000 s until 125.000000 s with time step of 1e-06 seconds \n"
     ]
    }
   ],
   "source": [
    "print(\"Figure 7A\")\n",
    "[sim, gui] = baserun(new_gx=0, jkccup=1e-14, anion_flux=False, default_xz=-1, nrcomps=7, dz=0, textra=time_per_sim)"
   ]
  },
  {
   "cell_type": "code",
   "execution_count": null,
   "metadata": {
    "collapsed": false
   },
   "outputs": [],
   "source": [
    "print(\"Figure 7B\")\n",
    "[sim, gui] = baserun(cli_D=0.203,new_gx=0, jkccup=1e-14, anion_flux=False, default_xz=-1, nrcomps=7, dz=0, textra=time_per_sim)"
   ]
  },
  {
   "cell_type": "markdown",
   "metadata": {},
   "source": [
    "## Figure 8a,b"
   ]
  },
  {
   "cell_type": "code",
   "execution_count": null,
   "metadata": {
    "collapsed": true
   },
   "outputs": [],
   "source": [
    "print(\"Figure 8A\")\n",
    "[sim, gui] = baserun(new_gx=1, jkccup=None, anion_flux=False, default_xz=-1, nrcomps=7, dz=0, textra=time_per_sim)"
   ]
  },
  {
   "cell_type": "code",
   "execution_count": null,
   "metadata": {
    "collapsed": true
   },
   "outputs": [],
   "source": [
    "print(\"Figure 8B\")\n",
    "[sim, gui] = baserun(new_gx=1, jkccup=None, anion_flux=True, default_xz=-1, nrcomps=7, dz=0, textra=time_per_sim)"
   ]
  }
 ],
 "metadata": {
  "celltoolbar": "Edit Metadata",
  "kernelspec": {
   "display_name": "Python 3",
   "language": "python",
   "name": "python3"
  },
  "language_info": {
   "codemirror_mode": {
    "name": "ipython",
    "version": 3
   },
   "file_extension": ".py",
   "mimetype": "text/x-python",
   "name": "python",
   "nbconvert_exporter": "python",
   "pygments_lexer": "ipython3",
   "version": "3.5.2"
  }
 },
 "nbformat": 4,
 "nbformat_minor": 2
}
